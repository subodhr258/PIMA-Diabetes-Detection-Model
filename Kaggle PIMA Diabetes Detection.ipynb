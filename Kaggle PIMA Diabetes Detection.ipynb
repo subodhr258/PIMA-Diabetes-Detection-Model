{
 "cells": [
  {
   "cell_type": "code",
   "execution_count": 15,
   "id": "b1b0b986",
   "metadata": {},
   "outputs": [],
   "source": [
    "import os\n",
    "os.chdir(r'D:\\Desktop\\ML\\Projects\\Kaggle PIMA Diabetes Detection')"
   ]
  },
  {
   "cell_type": "code",
   "execution_count": 16,
   "id": "af855a79",
   "metadata": {},
   "outputs": [
    {
     "data": {
      "text/plain": [
       "['diabetes.csv']"
      ]
     },
     "execution_count": 16,
     "metadata": {},
     "output_type": "execute_result"
    }
   ],
   "source": [
    "os.listdir()"
   ]
  },
  {
   "cell_type": "code",
   "execution_count": 17,
   "id": "6b78bc79",
   "metadata": {},
   "outputs": [],
   "source": [
    "import pandas as pd"
   ]
  },
  {
   "cell_type": "code",
   "execution_count": 18,
   "id": "08765b4b",
   "metadata": {},
   "outputs": [],
   "source": [
    "df = pd.read_csv('diabetes.csv')"
   ]
  },
  {
   "cell_type": "code",
   "execution_count": 19,
   "id": "bc0590e7",
   "metadata": {},
   "outputs": [
    {
     "data": {
      "text/html": [
       "<div>\n",
       "<style scoped>\n",
       "    .dataframe tbody tr th:only-of-type {\n",
       "        vertical-align: middle;\n",
       "    }\n",
       "\n",
       "    .dataframe tbody tr th {\n",
       "        vertical-align: top;\n",
       "    }\n",
       "\n",
       "    .dataframe thead th {\n",
       "        text-align: right;\n",
       "    }\n",
       "</style>\n",
       "<table border=\"1\" class=\"dataframe\">\n",
       "  <thead>\n",
       "    <tr style=\"text-align: right;\">\n",
       "      <th></th>\n",
       "      <th>Pregnancies</th>\n",
       "      <th>Glucose</th>\n",
       "      <th>BloodPressure</th>\n",
       "      <th>SkinThickness</th>\n",
       "      <th>Insulin</th>\n",
       "      <th>BMI</th>\n",
       "      <th>DiabetesPedigreeFunction</th>\n",
       "      <th>Age</th>\n",
       "      <th>Outcome</th>\n",
       "    </tr>\n",
       "  </thead>\n",
       "  <tbody>\n",
       "    <tr>\n",
       "      <th>0</th>\n",
       "      <td>6</td>\n",
       "      <td>148</td>\n",
       "      <td>72</td>\n",
       "      <td>35</td>\n",
       "      <td>0</td>\n",
       "      <td>33.6</td>\n",
       "      <td>0.627</td>\n",
       "      <td>50</td>\n",
       "      <td>1</td>\n",
       "    </tr>\n",
       "    <tr>\n",
       "      <th>1</th>\n",
       "      <td>1</td>\n",
       "      <td>85</td>\n",
       "      <td>66</td>\n",
       "      <td>29</td>\n",
       "      <td>0</td>\n",
       "      <td>26.6</td>\n",
       "      <td>0.351</td>\n",
       "      <td>31</td>\n",
       "      <td>0</td>\n",
       "    </tr>\n",
       "    <tr>\n",
       "      <th>2</th>\n",
       "      <td>8</td>\n",
       "      <td>183</td>\n",
       "      <td>64</td>\n",
       "      <td>0</td>\n",
       "      <td>0</td>\n",
       "      <td>23.3</td>\n",
       "      <td>0.672</td>\n",
       "      <td>32</td>\n",
       "      <td>1</td>\n",
       "    </tr>\n",
       "    <tr>\n",
       "      <th>3</th>\n",
       "      <td>1</td>\n",
       "      <td>89</td>\n",
       "      <td>66</td>\n",
       "      <td>23</td>\n",
       "      <td>94</td>\n",
       "      <td>28.1</td>\n",
       "      <td>0.167</td>\n",
       "      <td>21</td>\n",
       "      <td>0</td>\n",
       "    </tr>\n",
       "    <tr>\n",
       "      <th>4</th>\n",
       "      <td>0</td>\n",
       "      <td>137</td>\n",
       "      <td>40</td>\n",
       "      <td>35</td>\n",
       "      <td>168</td>\n",
       "      <td>43.1</td>\n",
       "      <td>2.288</td>\n",
       "      <td>33</td>\n",
       "      <td>1</td>\n",
       "    </tr>\n",
       "  </tbody>\n",
       "</table>\n",
       "</div>"
      ],
      "text/plain": [
       "   Pregnancies  Glucose  BloodPressure  SkinThickness  Insulin   BMI  \\\n",
       "0            6      148             72             35        0  33.6   \n",
       "1            1       85             66             29        0  26.6   \n",
       "2            8      183             64              0        0  23.3   \n",
       "3            1       89             66             23       94  28.1   \n",
       "4            0      137             40             35      168  43.1   \n",
       "\n",
       "   DiabetesPedigreeFunction  Age  Outcome  \n",
       "0                     0.627   50        1  \n",
       "1                     0.351   31        0  \n",
       "2                     0.672   32        1  \n",
       "3                     0.167   21        0  \n",
       "4                     2.288   33        1  "
      ]
     },
     "execution_count": 19,
     "metadata": {},
     "output_type": "execute_result"
    }
   ],
   "source": [
    "df.head()"
   ]
  },
  {
   "cell_type": "code",
   "execution_count": 20,
   "id": "11fa1732",
   "metadata": {},
   "outputs": [
    {
     "data": {
      "text/plain": [
       "Pregnancies                 0\n",
       "Glucose                     0\n",
       "BloodPressure               0\n",
       "SkinThickness               0\n",
       "Insulin                     0\n",
       "BMI                         0\n",
       "DiabetesPedigreeFunction    0\n",
       "Age                         0\n",
       "Outcome                     0\n",
       "dtype: int64"
      ]
     },
     "execution_count": 20,
     "metadata": {},
     "output_type": "execute_result"
    }
   ],
   "source": [
    "df.isnull().sum() \n",
    "#there are no missing values."
   ]
  },
  {
   "cell_type": "code",
   "execution_count": 21,
   "id": "13651c07",
   "metadata": {},
   "outputs": [
    {
     "data": {
      "text/plain": [
       "Pregnancies                   int64\n",
       "Glucose                       int64\n",
       "BloodPressure                 int64\n",
       "SkinThickness                 int64\n",
       "Insulin                       int64\n",
       "BMI                         float64\n",
       "DiabetesPedigreeFunction    float64\n",
       "Age                           int64\n",
       "Outcome                       int64\n",
       "dtype: object"
      ]
     },
     "execution_count": 21,
     "metadata": {},
     "output_type": "execute_result"
    }
   ],
   "source": [
    "df.dtypes\n",
    "#there is only numerical data, no categorical features."
   ]
  },
  {
   "cell_type": "code",
   "execution_count": 22,
   "id": "997c1537",
   "metadata": {},
   "outputs": [],
   "source": [
    "import seaborn as sns"
   ]
  },
  {
   "cell_type": "code",
   "execution_count": 23,
   "id": "344a2ddb",
   "metadata": {},
   "outputs": [
    {
     "data": {
      "text/plain": [
       "Index(['Pregnancies', 'Glucose', 'BloodPressure', 'SkinThickness', 'Insulin',\n",
       "       'BMI', 'DiabetesPedigreeFunction', 'Age', 'Outcome'],\n",
       "      dtype='object')"
      ]
     },
     "execution_count": 23,
     "metadata": {},
     "output_type": "execute_result"
    }
   ],
   "source": [
    "df.columns"
   ]
  },
  {
   "cell_type": "code",
   "execution_count": 24,
   "id": "1a53cb03",
   "metadata": {},
   "outputs": [
    {
     "data": {
      "text/plain": [
       "(768, 9)"
      ]
     },
     "execution_count": 24,
     "metadata": {},
     "output_type": "execute_result"
    }
   ],
   "source": [
    "df.shape"
   ]
  },
  {
   "cell_type": "code",
   "execution_count": 25,
   "id": "b3b8fc5c",
   "metadata": {},
   "outputs": [
    {
     "data": {
      "text/html": [
       "<div>\n",
       "<style scoped>\n",
       "    .dataframe tbody tr th:only-of-type {\n",
       "        vertical-align: middle;\n",
       "    }\n",
       "\n",
       "    .dataframe tbody tr th {\n",
       "        vertical-align: top;\n",
       "    }\n",
       "\n",
       "    .dataframe thead th {\n",
       "        text-align: right;\n",
       "    }\n",
       "</style>\n",
       "<table border=\"1\" class=\"dataframe\">\n",
       "  <thead>\n",
       "    <tr style=\"text-align: right;\">\n",
       "      <th></th>\n",
       "      <th>Pregnancies</th>\n",
       "      <th>Glucose</th>\n",
       "      <th>BloodPressure</th>\n",
       "      <th>SkinThickness</th>\n",
       "      <th>Insulin</th>\n",
       "      <th>BMI</th>\n",
       "      <th>DiabetesPedigreeFunction</th>\n",
       "      <th>Age</th>\n",
       "      <th>Outcome</th>\n",
       "    </tr>\n",
       "  </thead>\n",
       "  <tbody>\n",
       "    <tr>\n",
       "      <th>count</th>\n",
       "      <td>768.000000</td>\n",
       "      <td>768.000000</td>\n",
       "      <td>768.000000</td>\n",
       "      <td>768.000000</td>\n",
       "      <td>768.000000</td>\n",
       "      <td>768.000000</td>\n",
       "      <td>768.000000</td>\n",
       "      <td>768.000000</td>\n",
       "      <td>768.000000</td>\n",
       "    </tr>\n",
       "    <tr>\n",
       "      <th>mean</th>\n",
       "      <td>3.845052</td>\n",
       "      <td>120.894531</td>\n",
       "      <td>69.105469</td>\n",
       "      <td>20.536458</td>\n",
       "      <td>79.799479</td>\n",
       "      <td>31.992578</td>\n",
       "      <td>0.471876</td>\n",
       "      <td>33.240885</td>\n",
       "      <td>0.348958</td>\n",
       "    </tr>\n",
       "    <tr>\n",
       "      <th>std</th>\n",
       "      <td>3.369578</td>\n",
       "      <td>31.972618</td>\n",
       "      <td>19.355807</td>\n",
       "      <td>15.952218</td>\n",
       "      <td>115.244002</td>\n",
       "      <td>7.884160</td>\n",
       "      <td>0.331329</td>\n",
       "      <td>11.760232</td>\n",
       "      <td>0.476951</td>\n",
       "    </tr>\n",
       "    <tr>\n",
       "      <th>min</th>\n",
       "      <td>0.000000</td>\n",
       "      <td>0.000000</td>\n",
       "      <td>0.000000</td>\n",
       "      <td>0.000000</td>\n",
       "      <td>0.000000</td>\n",
       "      <td>0.000000</td>\n",
       "      <td>0.078000</td>\n",
       "      <td>21.000000</td>\n",
       "      <td>0.000000</td>\n",
       "    </tr>\n",
       "    <tr>\n",
       "      <th>25%</th>\n",
       "      <td>1.000000</td>\n",
       "      <td>99.000000</td>\n",
       "      <td>62.000000</td>\n",
       "      <td>0.000000</td>\n",
       "      <td>0.000000</td>\n",
       "      <td>27.300000</td>\n",
       "      <td>0.243750</td>\n",
       "      <td>24.000000</td>\n",
       "      <td>0.000000</td>\n",
       "    </tr>\n",
       "    <tr>\n",
       "      <th>50%</th>\n",
       "      <td>3.000000</td>\n",
       "      <td>117.000000</td>\n",
       "      <td>72.000000</td>\n",
       "      <td>23.000000</td>\n",
       "      <td>30.500000</td>\n",
       "      <td>32.000000</td>\n",
       "      <td>0.372500</td>\n",
       "      <td>29.000000</td>\n",
       "      <td>0.000000</td>\n",
       "    </tr>\n",
       "    <tr>\n",
       "      <th>75%</th>\n",
       "      <td>6.000000</td>\n",
       "      <td>140.250000</td>\n",
       "      <td>80.000000</td>\n",
       "      <td>32.000000</td>\n",
       "      <td>127.250000</td>\n",
       "      <td>36.600000</td>\n",
       "      <td>0.626250</td>\n",
       "      <td>41.000000</td>\n",
       "      <td>1.000000</td>\n",
       "    </tr>\n",
       "    <tr>\n",
       "      <th>max</th>\n",
       "      <td>17.000000</td>\n",
       "      <td>199.000000</td>\n",
       "      <td>122.000000</td>\n",
       "      <td>99.000000</td>\n",
       "      <td>846.000000</td>\n",
       "      <td>67.100000</td>\n",
       "      <td>2.420000</td>\n",
       "      <td>81.000000</td>\n",
       "      <td>1.000000</td>\n",
       "    </tr>\n",
       "  </tbody>\n",
       "</table>\n",
       "</div>"
      ],
      "text/plain": [
       "       Pregnancies     Glucose  BloodPressure  SkinThickness     Insulin  \\\n",
       "count   768.000000  768.000000     768.000000     768.000000  768.000000   \n",
       "mean      3.845052  120.894531      69.105469      20.536458   79.799479   \n",
       "std       3.369578   31.972618      19.355807      15.952218  115.244002   \n",
       "min       0.000000    0.000000       0.000000       0.000000    0.000000   \n",
       "25%       1.000000   99.000000      62.000000       0.000000    0.000000   \n",
       "50%       3.000000  117.000000      72.000000      23.000000   30.500000   \n",
       "75%       6.000000  140.250000      80.000000      32.000000  127.250000   \n",
       "max      17.000000  199.000000     122.000000      99.000000  846.000000   \n",
       "\n",
       "              BMI  DiabetesPedigreeFunction         Age     Outcome  \n",
       "count  768.000000                768.000000  768.000000  768.000000  \n",
       "mean    31.992578                  0.471876   33.240885    0.348958  \n",
       "std      7.884160                  0.331329   11.760232    0.476951  \n",
       "min      0.000000                  0.078000   21.000000    0.000000  \n",
       "25%     27.300000                  0.243750   24.000000    0.000000  \n",
       "50%     32.000000                  0.372500   29.000000    0.000000  \n",
       "75%     36.600000                  0.626250   41.000000    1.000000  \n",
       "max     67.100000                  2.420000   81.000000    1.000000  "
      ]
     },
     "execution_count": 25,
     "metadata": {},
     "output_type": "execute_result"
    }
   ],
   "source": [
    "df.describe()"
   ]
  },
  {
   "cell_type": "code",
   "execution_count": 26,
   "id": "72f8b32b",
   "metadata": {},
   "outputs": [],
   "source": [
    "# sns.pairplot(df,hue='Outcome')"
   ]
  },
  {
   "cell_type": "markdown",
   "id": "589b6e8d",
   "metadata": {},
   "source": [
    "## Making a simple base model first:"
   ]
  },
  {
   "cell_type": "code",
   "execution_count": 27,
   "id": "ff9c3434",
   "metadata": {},
   "outputs": [],
   "source": [
    "from sklearn.linear_model import LogisticRegression\n",
    "from sklearn.model_selection import train_test_split\n",
    "from sklearn.metrics import accuracy_score,f1_score,auc,confusion_matrix,classification_report"
   ]
  },
  {
   "cell_type": "code",
   "execution_count": 28,
   "id": "2452f7ca",
   "metadata": {},
   "outputs": [],
   "source": [
    "X = df.drop('Outcome',axis=1)"
   ]
  },
  {
   "cell_type": "code",
   "execution_count": 29,
   "id": "3dd8ed75",
   "metadata": {},
   "outputs": [],
   "source": [
    "y = df['Outcome']"
   ]
  },
  {
   "cell_type": "code",
   "execution_count": 30,
   "id": "8f21e758",
   "metadata": {},
   "outputs": [],
   "source": [
    "X_train,X_test,y_train,y_test = train_test_split(X,y,test_size=0.3,random_state=10)"
   ]
  },
  {
   "cell_type": "code",
   "execution_count": 31,
   "id": "47445695",
   "metadata": {},
   "outputs": [],
   "source": [
    "lr = LogisticRegression(max_iter=1000).fit(X_train,y_train)"
   ]
  },
  {
   "cell_type": "code",
   "execution_count": 32,
   "id": "83081b65",
   "metadata": {},
   "outputs": [],
   "source": [
    "y_pred = lr.predict(X_test)"
   ]
  },
  {
   "cell_type": "code",
   "execution_count": 33,
   "id": "33c290c8",
   "metadata": {},
   "outputs": [
    {
     "data": {
      "text/plain": [
       "0.7783985102420856"
      ]
     },
     "execution_count": 33,
     "metadata": {},
     "output_type": "execute_result"
    }
   ],
   "source": [
    "lr.score(X_train,y_train)"
   ]
  },
  {
   "cell_type": "code",
   "execution_count": 34,
   "id": "26ed233a",
   "metadata": {},
   "outputs": [
    {
     "data": {
      "text/plain": [
       "0.7445887445887446"
      ]
     },
     "execution_count": 34,
     "metadata": {},
     "output_type": "execute_result"
    }
   ],
   "source": [
    "accuracy_score(y_pred,y_test)"
   ]
  },
  {
   "cell_type": "code",
   "execution_count": 35,
   "id": "a2e652d1",
   "metadata": {},
   "outputs": [
    {
     "name": "stdout",
     "output_type": "stream",
     "text": [
      "              precision    recall  f1-score   support\n",
      "\n",
      "           0       0.90      0.75      0.81       173\n",
      "           1       0.49      0.74      0.59        58\n",
      "\n",
      "    accuracy                           0.74       231\n",
      "   macro avg       0.70      0.74      0.70       231\n",
      "weighted avg       0.80      0.74      0.76       231\n",
      "\n"
     ]
    }
   ],
   "source": [
    "print(classification_report(y_pred,y_test))"
   ]
  },
  {
   "cell_type": "code",
   "execution_count": 36,
   "id": "d3d04111",
   "metadata": {},
   "outputs": [
    {
     "data": {
      "text/plain": [
       "<AxesSubplot:>"
      ]
     },
     "execution_count": 36,
     "metadata": {},
     "output_type": "execute_result"
    },
    {
     "data": {
      "image/png": "[encoded data removed]",
      "text/plain": [
       "<Figure size 432x288 with 2 Axes>"
      ]
     },
     "metadata": {
      "needs_background": "light"
     },
     "output_type": "display_data"
    }
   ],
   "source": [
    "sns.heatmap(confusion_matrix(y_pred,y_test),annot=True)"
   ]
  },
  {
   "cell_type": "markdown",
   "id": "5deab972",
   "metadata": {},
   "source": [
    "## EDA + Feature extraction + Feature scaling:"
   ]
  },
  {
   "cell_type": "code",
   "execution_count": 37,
   "id": "36ac030e",
   "metadata": {},
   "outputs": [
    {
     "data": {
      "text/plain": [
       "0    500\n",
       "1    268\n",
       "Name: Outcome, dtype: int64"
      ]
     },
     "execution_count": 37,
     "metadata": {},
     "output_type": "execute_result"
    }
   ],
   "source": [
    "df['Outcome'].value_counts()"
   ]
  },
  {
   "cell_type": "code",
   "execution_count": 38,
   "id": "260107c9",
   "metadata": {},
   "outputs": [],
   "source": [
    "#since there are uneven number of positives and negatives, we will need to do either undersampling or oversampling.\n",
    "#In this case there is a less number of records so we should do oversampling."
   ]
  },
  {
   "cell_type": "code",
   "execution_count": 39,
   "id": "870efaf7",
   "metadata": {},
   "outputs": [],
   "source": [
    "# Random oversampling just increases the size of the training data set through repetition of the original examples. \n",
    "# It does not cause any increase in the variety of training examples.\n",
    "\n",
    "# Oversampling using SMOTE not only increases the size of the training data set, it also increases the variety."
   ]
  },
  {
   "cell_type": "code",
   "execution_count": 40,
   "id": "0dfbe335",
   "metadata": {},
   "outputs": [],
   "source": [
    "from imblearn.over_sampling import SMOTE"
   ]
  },
  {
   "cell_type": "code",
   "execution_count": 41,
   "id": "e25f0b1b",
   "metadata": {},
   "outputs": [],
   "source": [
    "X_resampled,y_resampled = SMOTE(k_neighbors=5).fit_resample(X,y)"
   ]
  },
  {
   "cell_type": "code",
   "execution_count": 42,
   "id": "654a8c9f",
   "metadata": {},
   "outputs": [
    {
     "data": {
      "text/plain": [
       "1    500\n",
       "0    500\n",
       "Name: Outcome, dtype: int64"
      ]
     },
     "execution_count": 42,
     "metadata": {},
     "output_type": "execute_result"
    }
   ],
   "source": [
    "y_resampled.value_counts()"
   ]
  },
  {
   "cell_type": "code",
   "execution_count": 43,
   "id": "eafef141",
   "metadata": {},
   "outputs": [],
   "source": [
    "X_train2,X_test2,y_train2,y_test2 = train_test_split(X_resampled,y_resampled,test_size=0.3,random_state=10)"
   ]
  },
  {
   "cell_type": "code",
   "execution_count": 44,
   "id": "6b55120a",
   "metadata": {},
   "outputs": [],
   "source": [
    "lr = LogisticRegression(max_iter=1000).fit(X_train2,y_train2)"
   ]
  },
  {
   "cell_type": "code",
   "execution_count": 45,
   "id": "6c3ef48b",
   "metadata": {},
   "outputs": [],
   "source": [
    "y_pred2 = lr.predict(X_test2)"
   ]
  },
  {
   "cell_type": "code",
   "execution_count": 46,
   "id": "efb19b8d",
   "metadata": {},
   "outputs": [
    {
     "name": "stdout",
     "output_type": "stream",
     "text": [
      "              precision    recall  f1-score   support\n",
      "\n",
      "           0       0.81      0.71      0.75       158\n",
      "           1       0.71      0.81      0.76       142\n",
      "\n",
      "    accuracy                           0.76       300\n",
      "   macro avg       0.76      0.76      0.76       300\n",
      "weighted avg       0.76      0.76      0.76       300\n",
      "\n"
     ]
    }
   ],
   "source": [
    "print(classification_report(y_pred2,y_test2))"
   ]
  },
  {
   "cell_type": "code",
   "execution_count": 47,
   "id": "0ab7bead",
   "metadata": {},
   "outputs": [
    {
     "data": {
      "text/plain": [
       "<AxesSubplot:>"
      ]
     },
     "execution_count": 47,
     "metadata": {},
     "output_type": "execute_result"
    },
    {
     "data": {
      "image/png": "[encoded data removed]",
      "text/plain": [
       "<Figure size 432x288 with 2 Axes>"
      ]
     },
     "metadata": {
      "needs_background": "light"
     },
     "output_type": "display_data"
    }
   ],
   "source": [
    "sns.heatmap(confusion_matrix(y_pred2,y_test2),annot=True)"
   ]
  },
  {
   "cell_type": "code",
   "execution_count": 48,
   "id": "5ea878a0",
   "metadata": {},
   "outputs": [],
   "source": [
    "#here we can see that the recall values are better. \n",
    "#We need to focus on the TPR as the problem is related to diabetes and the False Negatives should be decreased."
   ]
  },
  {
   "cell_type": "markdown",
   "id": "85b3b8e7",
   "metadata": {},
   "source": [
    "### So we have solved the problem of imbalanced classification.\n",
    "### Now we will see outlier treatment."
   ]
  },
  {
   "cell_type": "code",
   "execution_count": 49,
   "id": "adab376f",
   "metadata": {},
   "outputs": [
    {
     "data": {
      "text/html": [
       "<div>\n",
       "<style scoped>\n",
       "    .dataframe tbody tr th:only-of-type {\n",
       "        vertical-align: middle;\n",
       "    }\n",
       "\n",
       "    .dataframe tbody tr th {\n",
       "        vertical-align: top;\n",
       "    }\n",
       "\n",
       "    .dataframe thead th {\n",
       "        text-align: right;\n",
       "    }\n",
       "</style>\n",
       "<table border=\"1\" class=\"dataframe\">\n",
       "  <thead>\n",
       "    <tr style=\"text-align: right;\">\n",
       "      <th></th>\n",
       "      <th>Pregnancies</th>\n",
       "      <th>Glucose</th>\n",
       "      <th>BloodPressure</th>\n",
       "      <th>SkinThickness</th>\n",
       "      <th>Insulin</th>\n",
       "      <th>BMI</th>\n",
       "      <th>DiabetesPedigreeFunction</th>\n",
       "      <th>Age</th>\n",
       "      <th>Outcome</th>\n",
       "    </tr>\n",
       "  </thead>\n",
       "  <tbody>\n",
       "    <tr>\n",
       "      <th>0</th>\n",
       "      <td>6</td>\n",
       "      <td>148</td>\n",
       "      <td>72</td>\n",
       "      <td>35</td>\n",
       "      <td>0</td>\n",
       "      <td>33.6</td>\n",
       "      <td>0.627</td>\n",
       "      <td>50</td>\n",
       "      <td>1</td>\n",
       "    </tr>\n",
       "    <tr>\n",
       "      <th>1</th>\n",
       "      <td>1</td>\n",
       "      <td>85</td>\n",
       "      <td>66</td>\n",
       "      <td>29</td>\n",
       "      <td>0</td>\n",
       "      <td>26.6</td>\n",
       "      <td>0.351</td>\n",
       "      <td>31</td>\n",
       "      <td>0</td>\n",
       "    </tr>\n",
       "    <tr>\n",
       "      <th>2</th>\n",
       "      <td>8</td>\n",
       "      <td>183</td>\n",
       "      <td>64</td>\n",
       "      <td>0</td>\n",
       "      <td>0</td>\n",
       "      <td>23.3</td>\n",
       "      <td>0.672</td>\n",
       "      <td>32</td>\n",
       "      <td>1</td>\n",
       "    </tr>\n",
       "    <tr>\n",
       "      <th>3</th>\n",
       "      <td>1</td>\n",
       "      <td>89</td>\n",
       "      <td>66</td>\n",
       "      <td>23</td>\n",
       "      <td>94</td>\n",
       "      <td>28.1</td>\n",
       "      <td>0.167</td>\n",
       "      <td>21</td>\n",
       "      <td>0</td>\n",
       "    </tr>\n",
       "    <tr>\n",
       "      <th>4</th>\n",
       "      <td>0</td>\n",
       "      <td>137</td>\n",
       "      <td>40</td>\n",
       "      <td>35</td>\n",
       "      <td>168</td>\n",
       "      <td>43.1</td>\n",
       "      <td>2.288</td>\n",
       "      <td>33</td>\n",
       "      <td>1</td>\n",
       "    </tr>\n",
       "  </tbody>\n",
       "</table>\n",
       "</div>"
      ],
      "text/plain": [
       "   Pregnancies  Glucose  BloodPressure  SkinThickness  Insulin   BMI  \\\n",
       "0            6      148             72             35        0  33.6   \n",
       "1            1       85             66             29        0  26.6   \n",
       "2            8      183             64              0        0  23.3   \n",
       "3            1       89             66             23       94  28.1   \n",
       "4            0      137             40             35      168  43.1   \n",
       "\n",
       "   DiabetesPedigreeFunction  Age  Outcome  \n",
       "0                     0.627   50        1  \n",
       "1                     0.351   31        0  \n",
       "2                     0.672   32        1  \n",
       "3                     0.167   21        0  \n",
       "4                     2.288   33        1  "
      ]
     },
     "execution_count": 49,
     "metadata": {},
     "output_type": "execute_result"
    }
   ],
   "source": [
    "df.head()"
   ]
  },
  {
   "cell_type": "code",
   "execution_count": 50,
   "id": "1d693249",
   "metadata": {},
   "outputs": [
    {
     "data": {
      "text/plain": [
       "<AxesSubplot:xlabel='Pregnancies', ylabel='count'>"
      ]
     },
     "execution_count": 50,
     "metadata": {},
     "output_type": "execute_result"
    },
    {
     "data": {
      "image/png": "[encoded data removed]",
      "text/plain": [
       "<Figure size 432x288 with 1 Axes>"
      ]
     },
     "metadata": {
      "needs_background": "light"
     },
     "output_type": "display_data"
    }
   ],
   "source": [
    "sns.countplot(x='Pregnancies',data=df,hue='Outcome')"
   ]
  },
  {
   "cell_type": "code",
   "execution_count": 51,
   "id": "92cd008c",
   "metadata": {},
   "outputs": [],
   "source": [
    "import matplotlib.pyplot as plt\n",
    "from matplotlib.pyplot import figure"
   ]
  },
  {
   "cell_type": "code",
   "execution_count": 52,
   "id": "425eef48",
   "metadata": {},
   "outputs": [
    {
     "data": {
      "text/plain": [
       "Text(0, 0.5, 'Count')"
      ]
     },
     "execution_count": 52,
     "metadata": {},
     "output_type": "execute_result"
    },
    {
     "data": {
      "image/png": "[encoded data removed]",
      "text/plain": [
       "<Figure size 432x288 with 1 Axes>"
      ]
     },
     "metadata": {
      "needs_background": "light"
     },
     "output_type": "display_data"
    }
   ],
   "source": [
    "plt.hist(df['Glucose'])\n",
    "plt.xlabel('Glucose')\n",
    "plt.ylabel('Count')"
   ]
  },
  {
   "cell_type": "code",
   "execution_count": 53,
   "id": "e63b8dac",
   "metadata": {},
   "outputs": [
    {
     "data": {
      "text/plain": [
       "<AxesSubplot:>"
      ]
     },
     "execution_count": 53,
     "metadata": {},
     "output_type": "execute_result"
    },
    {
     "data": {
      "image/png": "[encoded data removed]",
      "text/plain": [
       "<Figure size 432x288 with 2 Axes>"
      ]
     },
     "metadata": {
      "needs_background": "light"
     },
     "output_type": "display_data"
    }
   ],
   "source": [
    "sns.heatmap(df.corr())"
   ]
  },
  {
   "cell_type": "code",
   "execution_count": 54,
   "id": "7851cd6b",
   "metadata": {},
   "outputs": [
    {
     "data": {
      "image/png": "[encoded data removed]",
      "text/plain": [
       "<Figure size 360x2880 with 9 Axes>"
      ]
     },
     "metadata": {
      "needs_background": "light"
     },
     "output_type": "display_data"
    }
   ],
   "source": [
    "fig,axes = plt.subplots(9,1,figsize=(5,40))\n",
    "i=0\n",
    "for x in df.columns:\n",
    "    sns.boxplot(x=x,data=df,ax=axes[i])\n",
    "    i+=1"
   ]
  },
  {
   "cell_type": "code",
   "execution_count": 55,
   "id": "ff3f904b",
   "metadata": {},
   "outputs": [],
   "source": [
    "import numpy as np"
   ]
  },
  {
   "cell_type": "code",
   "execution_count": 56,
   "id": "87dd8860",
   "metadata": {},
   "outputs": [
    {
     "data": {
      "text/plain": [
       "(768, 9)"
      ]
     },
     "execution_count": 56,
     "metadata": {},
     "output_type": "execute_result"
    }
   ],
   "source": [
    "df.shape"
   ]
  },
  {
   "cell_type": "code",
   "execution_count": 61,
   "id": "a3e3f715",
   "metadata": {},
   "outputs": [
    {
     "data": {
      "image/png": "[encoded data removed]",
      "text/plain": [
       "<Figure size 360x2880 with 9 Axes>"
      ]
     },
     "metadata": {
      "needs_background": "light"
     },
     "output_type": "display_data"
    }
   ],
   "source": [
    "fig,axes = plt.subplots(9,1,figsize=(5,40))\n",
    "i=0\n",
    "for x in df.columns:\n",
    "    sns.boxplot(x=x,data=df,ax=axes[i])\n",
    "    i+=1"
   ]
  },
  {
   "cell_type": "code",
   "execution_count": 62,
   "id": "97d8c585",
   "metadata": {},
   "outputs": [],
   "source": [
    "df2 = df[df['Pregnancies']<=12]"
   ]
  },
  {
   "cell_type": "code",
   "execution_count": 63,
   "id": "2a072904",
   "metadata": {},
   "outputs": [],
   "source": [
    "df2 = df2[df2['Glucose']>25]"
   ]
  },
  {
   "cell_type": "code",
   "execution_count": 64,
   "id": "8897b6e6",
   "metadata": {},
   "outputs": [],
   "source": [
    "df2 = df2[df2['BloodPressure']>=40]"
   ]
  },
  {
   "cell_type": "code",
   "execution_count": 65,
   "id": "b0463bd4",
   "metadata": {},
   "outputs": [],
   "source": [
    "df2 = df2[df2['BloodPressure']<=110]"
   ]
  },
  {
   "cell_type": "code",
   "execution_count": 66,
   "id": "622a893a",
   "metadata": {},
   "outputs": [],
   "source": [
    "df2 = df2[df2['SkinThickness']<80]"
   ]
  },
  {
   "cell_type": "code",
   "execution_count": 67,
   "id": "93e5d1c0",
   "metadata": {},
   "outputs": [],
   "source": [
    "df2 = df2[df2['Insulin']<=420]"
   ]
  },
  {
   "cell_type": "code",
   "execution_count": 68,
   "id": "db3c5593",
   "metadata": {},
   "outputs": [],
   "source": [
    "df2 = df2[(df2['BMI']<=50) & (df2['BMI']>=10)]"
   ]
  },
  {
   "cell_type": "code",
   "execution_count": 69,
   "id": "92a810bd",
   "metadata": {},
   "outputs": [],
   "source": [
    "df2 = df2[df2['DiabetesPedigreeFunction']<=1.5]"
   ]
  },
  {
   "cell_type": "code",
   "execution_count": 70,
   "id": "9732229a",
   "metadata": {},
   "outputs": [],
   "source": [
    "df2 = df2[df2['Age']<70]"
   ]
  },
  {
   "cell_type": "code",
   "execution_count": 71,
   "id": "d3ffb14a",
   "metadata": {},
   "outputs": [],
   "source": [
    "#By this, most of the outliers have been removed."
   ]
  },
  {
   "cell_type": "code",
   "execution_count": 72,
   "id": "181a1e03",
   "metadata": {},
   "outputs": [
    {
     "data": {
      "text/plain": [
       "(674, 9)"
      ]
     },
     "execution_count": 72,
     "metadata": {},
     "output_type": "execute_result"
    }
   ],
   "source": [
    "df2.shape"
   ]
  },
  {
   "cell_type": "code",
   "execution_count": 73,
   "id": "64c4f72f",
   "metadata": {},
   "outputs": [
    {
     "data": {
      "text/plain": [
       "0    454\n",
       "1    220\n",
       "Name: Outcome, dtype: int64"
      ]
     },
     "execution_count": 73,
     "metadata": {},
     "output_type": "execute_result"
    }
   ],
   "source": [
    "df2['Outcome'].value_counts()"
   ]
  },
  {
   "cell_type": "code",
   "execution_count": 74,
   "id": "f5ac7dff",
   "metadata": {},
   "outputs": [],
   "source": [
    "# Getting the logistic regression results again:"
   ]
  },
  {
   "cell_type": "code",
   "execution_count": 75,
   "id": "38652415",
   "metadata": {},
   "outputs": [],
   "source": [
    "X2 = df2.drop('Outcome',axis=1)"
   ]
  },
  {
   "cell_type": "code",
   "execution_count": 76,
   "id": "9e55153e",
   "metadata": {},
   "outputs": [],
   "source": [
    "y2 = df2['Outcome']"
   ]
  },
  {
   "cell_type": "code",
   "execution_count": 77,
   "id": "344e8234",
   "metadata": {},
   "outputs": [],
   "source": [
    "X_train3,X_test3,y_train3,y_test3 = train_test_split(X2,y2,test_size=0.3,random_state=10)"
   ]
  },
  {
   "cell_type": "code",
   "execution_count": 78,
   "id": "9b296bcd",
   "metadata": {},
   "outputs": [],
   "source": [
    "lr2 = LogisticRegression(max_iter=1000).fit(X_train3,y_train3)"
   ]
  },
  {
   "cell_type": "code",
   "execution_count": 79,
   "id": "7526fb76",
   "metadata": {},
   "outputs": [],
   "source": [
    "y_pred3 = lr2.predict(X_test3)"
   ]
  },
  {
   "cell_type": "code",
   "execution_count": 80,
   "id": "163d1a9d",
   "metadata": {},
   "outputs": [
    {
     "name": "stdout",
     "output_type": "stream",
     "text": [
      "              precision    recall  f1-score   support\n",
      "\n",
      "           0       0.88      0.82      0.85       150\n",
      "           1       0.58      0.70      0.63        53\n",
      "\n",
      "    accuracy                           0.79       203\n",
      "   macro avg       0.73      0.76      0.74       203\n",
      "weighted avg       0.80      0.79      0.79       203\n",
      "\n"
     ]
    }
   ],
   "source": [
    "print(classification_report(y_pred3,y_test3))"
   ]
  },
  {
   "cell_type": "code",
   "execution_count": 81,
   "id": "e55b6115",
   "metadata": {},
   "outputs": [
    {
     "data": {
      "text/plain": [
       "<AxesSubplot:>"
      ]
     },
     "execution_count": 81,
     "metadata": {},
     "output_type": "execute_result"
    },
    {
     "data": {
      "image/png": "[encoded data removed]",
      "text/plain": [
       "<Figure size 432x288 with 2 Axes>"
      ]
     },
     "metadata": {
      "needs_background": "light"
     },
     "output_type": "display_data"
    }
   ],
   "source": [
    "sns.heatmap(confusion_matrix(y_pred3,y_test3),annot=True)"
   ]
  },
  {
   "cell_type": "code",
   "execution_count": 82,
   "id": "0e91bdea",
   "metadata": {},
   "outputs": [
    {
     "data": {
      "text/html": [
       "<div>\n",
       "<style scoped>\n",
       "    .dataframe tbody tr th:only-of-type {\n",
       "        vertical-align: middle;\n",
       "    }\n",
       "\n",
       "    .dataframe tbody tr th {\n",
       "        vertical-align: top;\n",
       "    }\n",
       "\n",
       "    .dataframe thead th {\n",
       "        text-align: right;\n",
       "    }\n",
       "</style>\n",
       "<table border=\"1\" class=\"dataframe\">\n",
       "  <thead>\n",
       "    <tr style=\"text-align: right;\">\n",
       "      <th></th>\n",
       "      <th>Pregnancies</th>\n",
       "      <th>Glucose</th>\n",
       "      <th>BloodPressure</th>\n",
       "      <th>SkinThickness</th>\n",
       "      <th>Insulin</th>\n",
       "      <th>BMI</th>\n",
       "      <th>DiabetesPedigreeFunction</th>\n",
       "      <th>Age</th>\n",
       "      <th>Outcome</th>\n",
       "    </tr>\n",
       "  </thead>\n",
       "  <tbody>\n",
       "    <tr>\n",
       "      <th>Pregnancies</th>\n",
       "      <td>1.000000</td>\n",
       "      <td>0.158467</td>\n",
       "      <td>0.213793</td>\n",
       "      <td>-0.087789</td>\n",
       "      <td>-0.069229</td>\n",
       "      <td>0.036735</td>\n",
       "      <td>0.023949</td>\n",
       "      <td>0.564804</td>\n",
       "      <td>0.231255</td>\n",
       "    </tr>\n",
       "    <tr>\n",
       "      <th>Glucose</th>\n",
       "      <td>0.158467</td>\n",
       "      <td>1.000000</td>\n",
       "      <td>0.232847</td>\n",
       "      <td>0.000790</td>\n",
       "      <td>0.271443</td>\n",
       "      <td>0.201437</td>\n",
       "      <td>0.094301</td>\n",
       "      <td>0.266509</td>\n",
       "      <td>0.481218</td>\n",
       "    </tr>\n",
       "    <tr>\n",
       "      <th>BloodPressure</th>\n",
       "      <td>0.213793</td>\n",
       "      <td>0.232847</td>\n",
       "      <td>1.000000</td>\n",
       "      <td>0.032317</td>\n",
       "      <td>-0.064127</td>\n",
       "      <td>0.308402</td>\n",
       "      <td>0.033539</td>\n",
       "      <td>0.364682</td>\n",
       "      <td>0.179614</td>\n",
       "    </tr>\n",
       "    <tr>\n",
       "      <th>SkinThickness</th>\n",
       "      <td>-0.087789</td>\n",
       "      <td>0.000790</td>\n",
       "      <td>0.032317</td>\n",
       "      <td>1.000000</td>\n",
       "      <td>0.464338</td>\n",
       "      <td>0.392500</td>\n",
       "      <td>0.146182</td>\n",
       "      <td>-0.154161</td>\n",
       "      <td>0.061925</td>\n",
       "    </tr>\n",
       "    <tr>\n",
       "      <th>Insulin</th>\n",
       "      <td>-0.069229</td>\n",
       "      <td>0.271443</td>\n",
       "      <td>-0.064127</td>\n",
       "      <td>0.464338</td>\n",
       "      <td>1.000000</td>\n",
       "      <td>0.178088</td>\n",
       "      <td>0.173915</td>\n",
       "      <td>-0.082143</td>\n",
       "      <td>0.118204</td>\n",
       "    </tr>\n",
       "    <tr>\n",
       "      <th>BMI</th>\n",
       "      <td>0.036735</td>\n",
       "      <td>0.201437</td>\n",
       "      <td>0.308402</td>\n",
       "      <td>0.392500</td>\n",
       "      <td>0.178088</td>\n",
       "      <td>1.000000</td>\n",
       "      <td>0.119411</td>\n",
       "      <td>0.060117</td>\n",
       "      <td>0.287870</td>\n",
       "    </tr>\n",
       "    <tr>\n",
       "      <th>DiabetesPedigreeFunction</th>\n",
       "      <td>0.023949</td>\n",
       "      <td>0.094301</td>\n",
       "      <td>0.033539</td>\n",
       "      <td>0.146182</td>\n",
       "      <td>0.173915</td>\n",
       "      <td>0.119411</td>\n",
       "      <td>1.000000</td>\n",
       "      <td>0.066562</td>\n",
       "      <td>0.209212</td>\n",
       "    </tr>\n",
       "    <tr>\n",
       "      <th>Age</th>\n",
       "      <td>0.564804</td>\n",
       "      <td>0.266509</td>\n",
       "      <td>0.364682</td>\n",
       "      <td>-0.154161</td>\n",
       "      <td>-0.082143</td>\n",
       "      <td>0.060117</td>\n",
       "      <td>0.066562</td>\n",
       "      <td>1.000000</td>\n",
       "      <td>0.246929</td>\n",
       "    </tr>\n",
       "    <tr>\n",
       "      <th>Outcome</th>\n",
       "      <td>0.231255</td>\n",
       "      <td>0.481218</td>\n",
       "      <td>0.179614</td>\n",
       "      <td>0.061925</td>\n",
       "      <td>0.118204</td>\n",
       "      <td>0.287870</td>\n",
       "      <td>0.209212</td>\n",
       "      <td>0.246929</td>\n",
       "      <td>1.000000</td>\n",
       "    </tr>\n",
       "  </tbody>\n",
       "</table>\n",
       "</div>"
      ],
      "text/plain": [
       "                          Pregnancies   Glucose  BloodPressure  SkinThickness  \\\n",
       "Pregnancies                  1.000000  0.158467       0.213793      -0.087789   \n",
       "Glucose                      0.158467  1.000000       0.232847       0.000790   \n",
       "BloodPressure                0.213793  0.232847       1.000000       0.032317   \n",
       "SkinThickness               -0.087789  0.000790       0.032317       1.000000   \n",
       "Insulin                     -0.069229  0.271443      -0.064127       0.464338   \n",
       "BMI                          0.036735  0.201437       0.308402       0.392500   \n",
       "DiabetesPedigreeFunction     0.023949  0.094301       0.033539       0.146182   \n",
       "Age                          0.564804  0.266509       0.364682      -0.154161   \n",
       "Outcome                      0.231255  0.481218       0.179614       0.061925   \n",
       "\n",
       "                           Insulin       BMI  DiabetesPedigreeFunction  \\\n",
       "Pregnancies              -0.069229  0.036735                  0.023949   \n",
       "Glucose                   0.271443  0.201437                  0.094301   \n",
       "BloodPressure            -0.064127  0.308402                  0.033539   \n",
       "SkinThickness             0.464338  0.392500                  0.146182   \n",
       "Insulin                   1.000000  0.178088                  0.173915   \n",
       "BMI                       0.178088  1.000000                  0.119411   \n",
       "DiabetesPedigreeFunction  0.173915  0.119411                  1.000000   \n",
       "Age                      -0.082143  0.060117                  0.066562   \n",
       "Outcome                   0.118204  0.287870                  0.209212   \n",
       "\n",
       "                               Age   Outcome  \n",
       "Pregnancies               0.564804  0.231255  \n",
       "Glucose                   0.266509  0.481218  \n",
       "BloodPressure             0.364682  0.179614  \n",
       "SkinThickness            -0.154161  0.061925  \n",
       "Insulin                  -0.082143  0.118204  \n",
       "BMI                       0.060117  0.287870  \n",
       "DiabetesPedigreeFunction  0.066562  0.209212  \n",
       "Age                       1.000000  0.246929  \n",
       "Outcome                   0.246929  1.000000  "
      ]
     },
     "execution_count": 82,
     "metadata": {},
     "output_type": "execute_result"
    }
   ],
   "source": [
    "df2.corr()"
   ]
  },
  {
   "cell_type": "code",
   "execution_count": 83,
   "id": "7c3c99c6",
   "metadata": {},
   "outputs": [],
   "source": [
    "#There is strong positive correlation between Pregnancies and Age.\n",
    "#Logistic regression is Prone to Correlation between features.\n",
    "#So lets try different models."
   ]
  },
  {
   "cell_type": "code",
   "execution_count": 84,
   "id": "b9632ad6",
   "metadata": {},
   "outputs": [],
   "source": [
    "from sklearn.ensemble import RandomForestClassifier\n",
    "from sklearn.svm import SVC\n",
    "from sklearn.tree import DecisionTreeClassifier\n",
    "from sklearn.neighbors import KNeighborsClassifier\n",
    "from sklearn.naive_bayes import GaussianNB\n",
    "import xgboost\n",
    "from sklearn.ensemble import AdaBoostClassifier\n",
    "from sklearn.ensemble import GradientBoostingClassifier"
   ]
  },
  {
   "cell_type": "code",
   "execution_count": 85,
   "id": "c985946b",
   "metadata": {},
   "outputs": [
    {
     "name": "stdout",
     "output_type": "stream",
     "text": [
      "              precision    recall  f1-score   support\n",
      "\n",
      "           0       0.82      0.79      0.81       144\n",
      "           1       0.81      0.84      0.83       156\n",
      "\n",
      "    accuracy                           0.82       300\n",
      "   macro avg       0.82      0.82      0.82       300\n",
      "weighted avg       0.82      0.82      0.82       300\n",
      "\n"
     ]
    }
   ],
   "source": [
    "model = RandomForestClassifier().fit(X_train2,y_train2)\n",
    "y_pred = model.predict(X_test2)\n",
    "print(classification_report(y_pred,y_test2))"
   ]
  },
  {
   "cell_type": "code",
   "execution_count": 86,
   "id": "02b6c4fa",
   "metadata": {},
   "outputs": [
    {
     "name": "stdout",
     "output_type": "stream",
     "text": [
      "              precision    recall  f1-score   support\n",
      "\n",
      "           0       0.91      0.78      0.84       162\n",
      "           1       0.45      0.71      0.55        41\n",
      "\n",
      "    accuracy                           0.77       203\n",
      "   macro avg       0.68      0.75      0.70       203\n",
      "weighted avg       0.82      0.77      0.78       203\n",
      "\n"
     ]
    }
   ],
   "source": [
    "#a serious drawback of SVM is that it is sensitive to outliers. So we train it on df2 data\n",
    "model = SVC().fit(X_train3,y_train3)\n",
    "y_pred = model.predict(X_test3)\n",
    "print(classification_report(y_pred,y_test3))"
   ]
  },
  {
   "cell_type": "code",
   "execution_count": 87,
   "id": "2da19d0c",
   "metadata": {},
   "outputs": [
    {
     "name": "stdout",
     "output_type": "stream",
     "text": [
      "              precision    recall  f1-score   support\n",
      "\n",
      "           0       0.75      0.73      0.74       143\n",
      "           1       0.76      0.78      0.77       157\n",
      "\n",
      "    accuracy                           0.75       300\n",
      "   macro avg       0.75      0.75      0.75       300\n",
      "weighted avg       0.75      0.75      0.75       300\n",
      "\n"
     ]
    }
   ],
   "source": [
    "model = DecisionTreeClassifier(criterion='gini').fit(X_train2,y_train2)\n",
    "y_pred = model.predict(X_test2)\n",
    "print(classification_report(y_pred,y_test2))"
   ]
  },
  {
   "cell_type": "code",
   "execution_count": 88,
   "id": "4ab6675d",
   "metadata": {},
   "outputs": [
    {
     "name": "stdout",
     "output_type": "stream",
     "text": [
      "              precision    recall  f1-score   support\n",
      "\n",
      "           0       0.59      0.74      0.66       111\n",
      "           1       0.82      0.70      0.75       189\n",
      "\n",
      "    accuracy                           0.71       300\n",
      "   macro avg       0.70      0.72      0.71       300\n",
      "weighted avg       0.73      0.71      0.72       300\n",
      "\n"
     ]
    }
   ],
   "source": [
    "model = KNeighborsClassifier().fit(X_train2,y_train2)\n",
    "y_pred = model.predict(X_test2)\n",
    "print(classification_report(y_pred,y_test2))\n",
    "#worked better on resampled data and with outliers."
   ]
  },
  {
   "cell_type": "code",
   "execution_count": 89,
   "id": "72476da7",
   "metadata": {},
   "outputs": [
    {
     "name": "stdout",
     "output_type": "stream",
     "text": [
      "              precision    recall  f1-score   support\n",
      "\n",
      "           0       0.86      0.81      0.84       148\n",
      "           1       0.56      0.65      0.61        55\n",
      "\n",
      "    accuracy                           0.77       203\n",
      "   macro avg       0.71      0.73      0.72       203\n",
      "weighted avg       0.78      0.77      0.77       203\n",
      "\n"
     ]
    }
   ],
   "source": [
    "model = GaussianNB().fit(X_train3,y_train3)\n",
    "y_pred = model.predict(X_test3)\n",
    "print(classification_report(y_pred,y_test3))\n",
    "#Sensitive to outliers, so training on df2"
   ]
  },
  {
   "cell_type": "code",
   "execution_count": 90,
   "id": "5fa06fdb",
   "metadata": {},
   "outputs": [
    {
     "name": "stderr",
     "output_type": "stream",
     "text": [
      "C:\\Users\\subod\\anaconda3\\lib\\site-packages\\xgboost\\sklearn.py:1224: UserWarning: The use of label encoder in XGBClassifier is deprecated and will be removed in a future release. To remove this warning, do the following: 1) Pass option use_label_encoder=False when constructing XGBClassifier object; and 2) Encode your labels (y) as integers starting with 0, i.e. 0, 1, 2, ..., [num_class - 1].\n",
      "  warnings.warn(label_encoder_deprecation_msg, UserWarning)\n"
     ]
    },
    {
     "name": "stdout",
     "output_type": "stream",
     "text": [
      "[19:58:56] WARNING: C:/Users/Administrator/workspace/xgboost-win64_release_1.5.1/src/learner.cc:1115: Starting in XGBoost 1.3.0, the default evaluation metric used with the objective 'binary:logistic' was changed from 'error' to 'logloss'. Explicitly set eval_metric if you'd like to restore the old behavior.\n",
      "              precision    recall  f1-score   support\n",
      "\n",
      "           0       0.76      0.78      0.77       135\n",
      "           1       0.81      0.79      0.80       165\n",
      "\n",
      "    accuracy                           0.79       300\n",
      "   macro avg       0.78      0.79      0.79       300\n",
      "weighted avg       0.79      0.79      0.79       300\n",
      "\n"
     ]
    }
   ],
   "source": [
    "model = xgboost.XGBClassifier().fit(X_train2,y_train2)\n",
    "y_pred = model.predict(X_test2)\n",
    "print(classification_report(y_pred,y_test2))\n",
    "#worked best on oversampled data with outliers."
   ]
  },
  {
   "cell_type": "code",
   "execution_count": 91,
   "id": "f71b2517",
   "metadata": {},
   "outputs": [
    {
     "name": "stdout",
     "output_type": "stream",
     "text": [
      "              precision    recall  f1-score   support\n",
      "\n",
      "           0       0.78      0.76      0.77       142\n",
      "           1       0.79      0.80      0.80       158\n",
      "\n",
      "    accuracy                           0.78       300\n",
      "   macro avg       0.78      0.78      0.78       300\n",
      "weighted avg       0.78      0.78      0.78       300\n",
      "\n"
     ]
    }
   ],
   "source": [
    "model = AdaBoostClassifier().fit(X_train2,y_train2)\n",
    "y_pred = model.predict(X_test2)\n",
    "print(classification_report(y_pred,y_test2))\n",
    "#Worked best on oversampled data with outliers."
   ]
  },
  {
   "cell_type": "code",
   "execution_count": 92,
   "id": "bf4636cb",
   "metadata": {},
   "outputs": [
    {
     "name": "stdout",
     "output_type": "stream",
     "text": [
      "              precision    recall  f1-score   support\n",
      "\n",
      "           0       0.76      0.75      0.76       141\n",
      "           1       0.78      0.79      0.79       159\n",
      "\n",
      "    accuracy                           0.77       300\n",
      "   macro avg       0.77      0.77      0.77       300\n",
      "weighted avg       0.77      0.77      0.77       300\n",
      "\n"
     ]
    }
   ],
   "source": [
    "model = GradientBoostingClassifier().fit(X_train2,y_train2)\n",
    "y_pred = model.predict(X_test2)\n",
    "print(classification_report(y_pred,y_test2))\n",
    "#Not much effect of oversampling and removing outliers."
   ]
  },
  {
   "cell_type": "code",
   "execution_count": 93,
   "id": "e9815959",
   "metadata": {},
   "outputs": [],
   "source": [
    "# So till now after oversampling and removing outliers:\n",
    "#(The accuracies keep varying a bit)    "
   ]
  },
  {
   "cell_type": "code",
   "execution_count": 94,
   "id": "1762de74",
   "metadata": {},
   "outputs": [
    {
     "name": "stdout",
     "output_type": "stream",
     "text": [
      "                         Model       Best Accuracy\n",
      "           Logistic Regression                 79%\n",
      "      Random Forest Classifier                 80%\n",
      "     Support Vector Classifier                 77%\n",
      "      Decision Tree Classifier                 73%\n",
      "       K Neighbours Classifier                 73%\n",
      "                    GaussianNB                 77%\n",
      "            XGBoost Classifier                 79%\n",
      "           AdaBoost Classifier                 77%\n",
      "  Gradient Boosting Classifier                 78%\n"
     ]
    }
   ],
   "source": [
    "print(\"{:>30}{:>20}\".format(\"Model\",\"Best Accuracy\"))\n",
    "print(\"{:>30}{:>20}\".format(\"Logistic Regression\",\"79%\"))\n",
    "print(\"{:>30}{:>20}\".format(\"Random Forest Classifier\",\"80%\"))\n",
    "print(\"{:>30}{:>20}\".format(\"Support Vector Classifier\",\"77%\"))\n",
    "print(\"{:>30}{:>20}\".format(\"Decision Tree Classifier\",\"73%\"))\n",
    "print(\"{:>30}{:>20}\".format(\"K Neighbours Classifier\",\"73%\"))\n",
    "print(\"{:>30}{:>20}\".format(\"GaussianNB\",\"77%\"))\n",
    "print(\"{:>30}{:>20}\".format(\"XGBoost Classifier\",\"79%\"))\n",
    "print(\"{:>30}{:>20}\".format(\"AdaBoost Classifier\",\"77%\"))\n",
    "print(\"{:>30}{:>20}\".format(\"Gradient Boosting Classifier\",\"78%\"))"
   ]
  },
  {
   "cell_type": "code",
   "execution_count": 95,
   "id": "d1354d2b",
   "metadata": {},
   "outputs": [],
   "source": [
    "#Now we shall do hyperparameter tuning for all models that performed well."
   ]
  },
  {
   "cell_type": "markdown",
   "id": "d6da1da7",
   "metadata": {},
   "source": [
    "# Hyperparameter Tuning"
   ]
  },
  {
   "cell_type": "code",
   "execution_count": 96,
   "id": "9a3e6e9d",
   "metadata": {},
   "outputs": [],
   "source": [
    "from sklearn.model_selection import GridSearchCV, RepeatedStratifiedKFold"
   ]
  },
  {
   "cell_type": "markdown",
   "id": "ec4143bf",
   "metadata": {},
   "source": [
    "### 1. Logistic Regression"
   ]
  },
  {
   "cell_type": "code",
   "execution_count": 97,
   "id": "f22d3445",
   "metadata": {},
   "outputs": [],
   "source": [
    "model = LogisticRegression(max_iter=1000)\n",
    "solvers = ['newton-cg','lbfgs','liblinear']\n",
    "penalty = ['l2']\n",
    "c_values = [100,10,1,0.1,0.01]\n",
    "\n",
    "grid = dict(solver=solvers,penalty=penalty,C=c_values)\n",
    "cv = RepeatedStratifiedKFold(n_splits = 10,n_repeats = 3,random_state = 1)\n",
    "grid_search = GridSearchCV(estimator=model,param_grid=grid,n_jobs=-1,cv=cv,scoring='accuracy',error_score=0)\n",
    "grid_result = grid_search.fit(X_resampled,y_resampled)"
   ]
  },
  {
   "cell_type": "code",
   "execution_count": 98,
   "id": "f89a1c40",
   "metadata": {},
   "outputs": [
    {
     "data": {
      "text/plain": [
       "(0.7569999999999999, {'C': 1, 'penalty': 'l2', 'solver': 'liblinear'})"
      ]
     },
     "execution_count": 98,
     "metadata": {},
     "output_type": "execute_result"
    }
   ],
   "source": [
    "grid_result.best_score_,grid_result.best_params_"
   ]
  },
  {
   "cell_type": "markdown",
   "id": "d5fd8b6d",
   "metadata": {},
   "source": [
    "### 2. Random Forest Classifier"
   ]
  },
  {
   "cell_type": "code",
   "execution_count": 99,
   "id": "2c90f448",
   "metadata": {},
   "outputs": [
    {
     "name": "stdout",
     "output_type": "stream",
     "text": [
      "Fitting 2 folds for each of 192 candidates, totalling 384 fits\n"
     ]
    },
    {
     "data": {
      "text/plain": [
       "(0.8200000000000001,\n",
       " {'max_depth': 25,\n",
       "  'min_samples_leaf': 2,\n",
       "  'min_samples_split': 2,\n",
       "  'n_estimators': 300})"
      ]
     },
     "execution_count": 99,
     "metadata": {},
     "output_type": "execute_result"
    }
   ],
   "source": [
    "model = RandomForestClassifier()\n",
    "n_estimators = [100,300,500]\n",
    "max_depth = [5,8,15,25]\n",
    "min_samples_split = [2,5,10,15]\n",
    "min_samples_leaf = [1,2,5,10]\n",
    "\n",
    "grid = dict(n_estimators = n_estimators, max_depth = max_depth,  \n",
    "              min_samples_split = min_samples_split, \n",
    "             min_samples_leaf = min_samples_leaf)\n",
    "\n",
    "grid_search = GridSearchCV(model,grid,verbose=1,cv=2,n_jobs=-1)\n",
    "grid_result = grid_search.fit(X_resampled,y_resampled)\n",
    "grid_result.best_score_,grid_result.best_params_"
   ]
  },
  {
   "cell_type": "code",
   "execution_count": 100,
   "id": "eb03c27a",
   "metadata": {},
   "outputs": [],
   "source": [
    "#This one took more time."
   ]
  },
  {
   "cell_type": "markdown",
   "id": "efa30708",
   "metadata": {},
   "source": [
    "### 3. SVC"
   ]
  },
  {
   "cell_type": "code",
   "execution_count": 101,
   "id": "2c8e8de7",
   "metadata": {},
   "outputs": [
    {
     "name": "stdout",
     "output_type": "stream",
     "text": [
      "Fitting 5 folds for each of 25 candidates, totalling 125 fits\n"
     ]
    },
    {
     "data": {
      "text/plain": [
       "(0.7655942509673853, {'C': 1, 'gamma': 0.0001, 'kernel': 'rbf'})"
      ]
     },
     "execution_count": 101,
     "metadata": {},
     "output_type": "execute_result"
    }
   ],
   "source": [
    "model = SVC()\n",
    "grid = {'C':[0.1,1,10,100,1000],\n",
    "       'gamma':[1,0.1,0.01,0.001,0.0001],\n",
    "       'kernel':['rbf']}\n",
    "grid_search = GridSearchCV(model,grid,verbose=1)\n",
    "grid_result = grid_search.fit(X2,y2)\n",
    "#used the data which does not contain outliers.\n",
    "grid_result.best_score_,grid_result.best_params_"
   ]
  },
  {
   "cell_type": "markdown",
   "id": "4ce8d573",
   "metadata": {},
   "source": [
    "### 4. Gaussian NB"
   ]
  },
  {
   "cell_type": "code",
   "execution_count": 102,
   "id": "73165bc5",
   "metadata": {},
   "outputs": [
    {
     "name": "stdout",
     "output_type": "stream",
     "text": [
      "Fitting 10 folds for each of 100 candidates, totalling 1000 fits\n"
     ]
    },
    {
     "data": {
      "text/plain": [
       "(0.75, {'var_smoothing': 1.232846739442066e-06})"
      ]
     },
     "execution_count": 102,
     "metadata": {},
     "output_type": "execute_result"
    }
   ],
   "source": [
    "model = GaussianNB()\n",
    "grid = {\n",
    "    'var_smoothing': np.logspace(0,-9, num=100)\n",
    "}\n",
    "grid_search = GridSearchCV(model,grid,verbose=1,cv=10,n_jobs=-1)\n",
    "grid_result = grid_search.fit(X_resampled,y_resampled)\n",
    "grid_result.best_score_,grid_result.best_params_"
   ]
  },
  {
   "cell_type": "markdown",
   "id": "5f514834",
   "metadata": {},
   "source": [
    "### 5. XGBoost Classifier"
   ]
  },
  {
   "cell_type": "code",
   "execution_count": 103,
   "id": "bdf519d2",
   "metadata": {},
   "outputs": [
    {
     "name": "stdout",
     "output_type": "stream",
     "text": [
      "Fitting 2 folds for each of 1500 candidates, totalling 3000 fits\n",
      "[20:01:56] WARNING: C:/Users/Administrator/workspace/xgboost-win64_release_1.5.1/src/learner.cc:1115: Starting in XGBoost 1.3.0, the default evaluation metric used with the objective 'binary:logistic' was changed from 'error' to 'logloss'. Explicitly set eval_metric if you'd like to restore the old behavior.\n"
     ]
    },
    {
     "name": "stderr",
     "output_type": "stream",
     "text": [
      "C:\\Users\\subod\\anaconda3\\lib\\site-packages\\xgboost\\sklearn.py:1224: UserWarning: The use of label encoder in XGBClassifier is deprecated and will be removed in a future release. To remove this warning, do the following: 1) Pass option use_label_encoder=False when constructing XGBClassifier object; and 2) Encode your labels (y) as integers starting with 0, i.e. 0, 1, 2, ..., [num_class - 1].\n",
      "  warnings.warn(label_encoder_deprecation_msg, UserWarning)\n"
     ]
    },
    {
     "data": {
      "text/plain": [
       "(0.815,\n",
       " {'gamma': 0.2,\n",
       "  'learning_rate': 0.1,\n",
       "  'max_depth': 11,\n",
       "  'min_child_weight': 1,\n",
       "  'reg_alpha': 0.05})"
      ]
     },
     "execution_count": 103,
     "metadata": {},
     "output_type": "execute_result"
    }
   ],
   "source": [
    "model = xgboost.XGBClassifier()\n",
    "grid = {\n",
    "    'max_depth':[3,5,7,9,11],\n",
    "    'min_child_weight':[1,2,4,6,8,10],\n",
    "    'gamma':[0,0.1,0.2,0.3,0.4],\n",
    "    'reg_alpha':[0,0.001,0.005,0.01,0.05],\n",
    "    'learning_rate':[0.1,0.001],\n",
    "}\n",
    "grid_search = GridSearchCV(model,grid,verbose=2,cv=2,n_jobs=-1)\n",
    "grid_result = grid_search.fit(X_resampled,y_resampled)\n",
    "grid_result.best_score_,grid_result.best_params_"
   ]
  },
  {
   "cell_type": "markdown",
   "id": "cc05b875",
   "metadata": {},
   "source": [
    "### 6. AdaBoost Classifier"
   ]
  },
  {
   "cell_type": "code",
   "execution_count": 104,
   "id": "6c45dc6f",
   "metadata": {},
   "outputs": [
    {
     "name": "stdout",
     "output_type": "stream",
     "text": [
      "Fitting 30 folds for each of 8 candidates, totalling 240 fits\n"
     ]
    },
    {
     "data": {
      "text/plain": [
       "(0.7846666666666666, {'learning_rate': 0.1, 'n_estimators': 500})"
      ]
     },
     "execution_count": 104,
     "metadata": {},
     "output_type": "execute_result"
    }
   ],
   "source": [
    "model = AdaBoostClassifier()\n",
    "grid = {\n",
    "    'n_estimators':[10,50,100,500],\n",
    "    'learning_rate':[0.01,0.1]\n",
    "}\n",
    "cv = RepeatedStratifiedKFold(n_splits=10, n_repeats=3, random_state=1)\n",
    "\n",
    "grid_search = GridSearchCV(model,grid,verbose=2,cv=cv,n_jobs=-1)\n",
    "grid_result = grid_search.fit(X_resampled,y_resampled)\n",
    "grid_result.best_score_,grid_result.best_params_"
   ]
  },
  {
   "cell_type": "markdown",
   "id": "8a4f3839",
   "metadata": {},
   "source": [
    "### 7. Gradient Boosting Classifier"
   ]
  },
  {
   "cell_type": "code",
   "execution_count": 105,
   "id": "85ab4fb0",
   "metadata": {},
   "outputs": [
    {
     "name": "stdout",
     "output_type": "stream",
     "text": [
      "Fitting 30 folds for each of 40 candidates, totalling 1200 fits\n"
     ]
    },
    {
     "data": {
      "text/plain": [
       "(0.8126666666666666,\n",
       " {'learning_rate': 0.1, 'max_depth': 5, 'n_estimators': 80})"
      ]
     },
     "execution_count": 105,
     "metadata": {},
     "output_type": "execute_result"
    }
   ],
   "source": [
    "model = GradientBoostingClassifier()\n",
    "grid = {\n",
    "    'n_estimators':[10,20,50,80,100],\n",
    "    'learning_rate':[0.01,0.1],\n",
    "    'max_depth':[3,5,7,10],\n",
    "    \n",
    "}\n",
    "cv = RepeatedStratifiedKFold(n_splits=10, n_repeats=3, random_state=1)\n",
    "\n",
    "grid_search = GridSearchCV(model,grid,verbose=2,cv=cv,n_jobs=-1)\n",
    "grid_result = grid_search.fit(X_resampled,y_resampled)\n",
    "grid_result.best_score_,grid_result.best_params_"
   ]
  },
  {
   "cell_type": "markdown",
   "id": "2d8522f4",
   "metadata": {},
   "source": [
    "#### Best Accuracies in Hyperparameter Tuning:"
   ]
  },
  {
   "cell_type": "code",
   "execution_count": 106,
   "id": "e1d3d608",
   "metadata": {},
   "outputs": [
    {
     "name": "stdout",
     "output_type": "stream",
     "text": [
      "                         Model       Best Accuracy\n",
      "           Logistic Regression                 76%\n",
      "      Random Forest Classifier               81.6%\n",
      "     Support Vector Classifier               76.5%\n",
      "                    GaussianNB               74.8%\n",
      "            XGBoost Classifier               80.7%\n",
      "           AdaBoost Classifier               78.4%\n",
      "  Gradient Boosting Classifier               81.2%\n"
     ]
    }
   ],
   "source": [
    "print(\"{:>30}{:>20}\".format(\"Model\",\"Best Accuracy\"))\n",
    "print(\"{:>30}{:>20}\".format(\"Logistic Regression\",\"76%\"))\n",
    "print(\"{:>30}{:>20}\".format(\"Random Forest Classifier\",\"81.6%\"))\n",
    "print(\"{:>30}{:>20}\".format(\"Support Vector Classifier\",\"76.5%\"))\n",
    "print(\"{:>30}{:>20}\".format(\"GaussianNB\",\"74.8%\"))\n",
    "print(\"{:>30}{:>20}\".format(\"XGBoost Classifier\",\"80.7%\"))\n",
    "print(\"{:>30}{:>20}\".format(\"AdaBoost Classifier\",\"78.4%\"))\n",
    "print(\"{:>30}{:>20}\".format(\"Gradient Boosting Classifier\",\"81.2%\"))"
   ]
  },
  {
   "cell_type": "markdown",
   "id": "33d9f4f4",
   "metadata": {},
   "source": [
    "# Verifying with AutoML"
   ]
  },
  {
   "cell_type": "code",
   "execution_count": 107,
   "id": "63def1bf",
   "metadata": {},
   "outputs": [
    {
     "data": {
      "text/plain": [
       "[<ProblemTypes.BINARY: 'binary'>,\n",
       " <ProblemTypes.MULTICLASS: 'multiclass'>,\n",
       " <ProblemTypes.REGRESSION: 'regression'>,\n",
       " <ProblemTypes.TIME_SERIES_REGRESSION: 'time series regression'>,\n",
       " <ProblemTypes.TIME_SERIES_BINARY: 'time series binary'>,\n",
       " <ProblemTypes.TIME_SERIES_MULTICLASS: 'time series multiclass'>]"
      ]
     },
     "execution_count": 107,
     "metadata": {},
     "output_type": "execute_result"
    }
   ],
   "source": [
    "import evalml\n",
    "evalml.problem_types.ProblemTypes.all_problem_types"
   ]
  },
  {
   "cell_type": "code",
   "execution_count": 117,
   "id": "2b83a41f",
   "metadata": {},
   "outputs": [
    {
     "name": "stderr",
     "output_type": "stream",
     "text": [
      "\tHigh coefficient of variation (cv >= 0.5) within cross validation scores.\n",
      "\tDecision Tree Classifier w/ Label Encoder + Imputer may not perform as estimated on unseen data.\n"
     ]
    }
   ],
   "source": [
    "from evalml.automl import AutoMLSearch\n",
    "automl = AutoMLSearch(X_train=X_train3, y_train=y_train3, problem_type='binary')\n",
    "automl.search()"
   ]
  },
  {
   "cell_type": "code",
   "execution_count": 118,
   "id": "7d115c0d",
   "metadata": {},
   "outputs": [
    {
     "data": {
      "text/html": [
       "<div>\n",
       "<style scoped>\n",
       "    .dataframe tbody tr th:only-of-type {\n",
       "        vertical-align: middle;\n",
       "    }\n",
       "\n",
       "    .dataframe tbody tr th {\n",
       "        vertical-align: top;\n",
       "    }\n",
       "\n",
       "    .dataframe thead th {\n",
       "        text-align: right;\n",
       "    }\n",
       "</style>\n",
       "<table border=\"1\" class=\"dataframe\">\n",
       "  <thead>\n",
       "    <tr style=\"text-align: right;\">\n",
       "      <th></th>\n",
       "      <th>id</th>\n",
       "      <th>pipeline_name</th>\n",
       "      <th>search_order</th>\n",
       "      <th>mean_cv_score</th>\n",
       "      <th>standard_deviation_cv_score</th>\n",
       "      <th>validation_score</th>\n",
       "      <th>percent_better_than_baseline</th>\n",
       "      <th>high_variance_cv</th>\n",
       "      <th>parameters</th>\n",
       "    </tr>\n",
       "  </thead>\n",
       "  <tbody>\n",
       "    <tr>\n",
       "      <th>0</th>\n",
       "      <td>1</td>\n",
       "      <td>Elastic Net Classifier w/ Label Encoder + Impu...</td>\n",
       "      <td>1</td>\n",
       "      <td>0.471252</td>\n",
       "      <td>0.017160</td>\n",
       "      <td>0.471252</td>\n",
       "      <td>95.880517</td>\n",
       "      <td>False</td>\n",
       "      <td>{'Label Encoder': {'positive_label': None}, 'I...</td>\n",
       "    </tr>\n",
       "    <tr>\n",
       "      <th>1</th>\n",
       "      <td>2</td>\n",
       "      <td>Logistic Regression Classifier w/ Label Encode...</td>\n",
       "      <td>2</td>\n",
       "      <td>0.471461</td>\n",
       "      <td>0.017452</td>\n",
       "      <td>0.471461</td>\n",
       "      <td>95.878688</td>\n",
       "      <td>False</td>\n",
       "      <td>{'Label Encoder': {'positive_label': None}, 'I...</td>\n",
       "    </tr>\n",
       "    <tr>\n",
       "      <th>2</th>\n",
       "      <td>6</td>\n",
       "      <td>Random Forest Classifier w/ Label Encoder + Im...</td>\n",
       "      <td>6</td>\n",
       "      <td>0.479219</td>\n",
       "      <td>0.008462</td>\n",
       "      <td>0.479219</td>\n",
       "      <td>95.810875</td>\n",
       "      <td>False</td>\n",
       "      <td>{'Label Encoder': {'positive_label': None}, 'I...</td>\n",
       "    </tr>\n",
       "    <tr>\n",
       "      <th>3</th>\n",
       "      <td>8</td>\n",
       "      <td>Extra Trees Classifier w/ Label Encoder + Imputer</td>\n",
       "      <td>8</td>\n",
       "      <td>0.496437</td>\n",
       "      <td>0.008617</td>\n",
       "      <td>0.496437</td>\n",
       "      <td>95.660361</td>\n",
       "      <td>False</td>\n",
       "      <td>{'Label Encoder': {'positive_label': None}, 'I...</td>\n",
       "    </tr>\n",
       "    <tr>\n",
       "      <th>4</th>\n",
       "      <td>3</td>\n",
       "      <td>XGBoost Classifier w/ Label Encoder + Imputer</td>\n",
       "      <td>3</td>\n",
       "      <td>0.582514</td>\n",
       "      <td>0.073505</td>\n",
       "      <td>0.582514</td>\n",
       "      <td>94.907915</td>\n",
       "      <td>False</td>\n",
       "      <td>{'Label Encoder': {'positive_label': None}, 'I...</td>\n",
       "    </tr>\n",
       "    <tr>\n",
       "      <th>5</th>\n",
       "      <td>4</td>\n",
       "      <td>LightGBM Classifier w/ Label Encoder + Imputer</td>\n",
       "      <td>4</td>\n",
       "      <td>0.622108</td>\n",
       "      <td>0.067243</td>\n",
       "      <td>0.622108</td>\n",
       "      <td>94.561804</td>\n",
       "      <td>False</td>\n",
       "      <td>{'Label Encoder': {'positive_label': None}, 'I...</td>\n",
       "    </tr>\n",
       "    <tr>\n",
       "      <th>6</th>\n",
       "      <td>5</td>\n",
       "      <td>CatBoost Classifier w/ Label Encoder + Imputer</td>\n",
       "      <td>5</td>\n",
       "      <td>0.647988</td>\n",
       "      <td>0.004049</td>\n",
       "      <td>0.647988</td>\n",
       "      <td>94.335565</td>\n",
       "      <td>False</td>\n",
       "      <td>{'Label Encoder': {'positive_label': None}, 'I...</td>\n",
       "    </tr>\n",
       "    <tr>\n",
       "      <th>7</th>\n",
       "      <td>7</td>\n",
       "      <td>Decision Tree Classifier w/ Label Encoder + Im...</td>\n",
       "      <td>7</td>\n",
       "      <td>5.395338</td>\n",
       "      <td>1.170749</td>\n",
       "      <td>5.395338</td>\n",
       "      <td>52.836282</td>\n",
       "      <td>True</td>\n",
       "      <td>{'Label Encoder': {'positive_label': None}, 'I...</td>\n",
       "    </tr>\n",
       "    <tr>\n",
       "      <th>8</th>\n",
       "      <td>0</td>\n",
       "      <td>Mode Baseline Binary Classification Pipeline</td>\n",
       "      <td>0</td>\n",
       "      <td>11.439595</td>\n",
       "      <td>0.000000</td>\n",
       "      <td>11.439595</td>\n",
       "      <td>0.000000</td>\n",
       "      <td>False</td>\n",
       "      <td>{'Label Encoder': {'positive_label': None}, 'B...</td>\n",
       "    </tr>\n",
       "  </tbody>\n",
       "</table>\n",
       "</div>"
      ],
      "text/plain": [
       "   id                                      pipeline_name  search_order  \\\n",
       "0   1  Elastic Net Classifier w/ Label Encoder + Impu...             1   \n",
       "1   2  Logistic Regression Classifier w/ Label Encode...             2   \n",
       "2   6  Random Forest Classifier w/ Label Encoder + Im...             6   \n",
       "3   8  Extra Trees Classifier w/ Label Encoder + Imputer             8   \n",
       "4   3      XGBoost Classifier w/ Label Encoder + Imputer             3   \n",
       "5   4     LightGBM Classifier w/ Label Encoder + Imputer             4   \n",
       "6   5     CatBoost Classifier w/ Label Encoder + Imputer             5   \n",
       "7   7  Decision Tree Classifier w/ Label Encoder + Im...             7   \n",
       "8   0       Mode Baseline Binary Classification Pipeline             0   \n",
       "\n",
       "   mean_cv_score  standard_deviation_cv_score  validation_score  \\\n",
       "0       0.471252                     0.017160          0.471252   \n",
       "1       0.471461                     0.017452          0.471461   \n",
       "2       0.479219                     0.008462          0.479219   \n",
       "3       0.496437                     0.008617          0.496437   \n",
       "4       0.582514                     0.073505          0.582514   \n",
       "5       0.622108                     0.067243          0.622108   \n",
       "6       0.647988                     0.004049          0.647988   \n",
       "7       5.395338                     1.170749          5.395338   \n",
       "8      11.439595                     0.000000         11.439595   \n",
       "\n",
       "   percent_better_than_baseline  high_variance_cv  \\\n",
       "0                     95.880517             False   \n",
       "1                     95.878688             False   \n",
       "2                     95.810875             False   \n",
       "3                     95.660361             False   \n",
       "4                     94.907915             False   \n",
       "5                     94.561804             False   \n",
       "6                     94.335565             False   \n",
       "7                     52.836282              True   \n",
       "8                      0.000000             False   \n",
       "\n",
       "                                          parameters  \n",
       "0  {'Label Encoder': {'positive_label': None}, 'I...  \n",
       "1  {'Label Encoder': {'positive_label': None}, 'I...  \n",
       "2  {'Label Encoder': {'positive_label': None}, 'I...  \n",
       "3  {'Label Encoder': {'positive_label': None}, 'I...  \n",
       "4  {'Label Encoder': {'positive_label': None}, 'I...  \n",
       "5  {'Label Encoder': {'positive_label': None}, 'I...  \n",
       "6  {'Label Encoder': {'positive_label': None}, 'I...  \n",
       "7  {'Label Encoder': {'positive_label': None}, 'I...  \n",
       "8  {'Label Encoder': {'positive_label': None}, 'B...  "
      ]
     },
     "execution_count": 118,
     "metadata": {},
     "output_type": "execute_result"
    }
   ],
   "source": [
    "automl.rankings"
   ]
  },
  {
   "cell_type": "code",
   "execution_count": 119,
   "id": "64993619",
   "metadata": {},
   "outputs": [
    {
     "data": {
      "text/plain": [
       "pipeline = BinaryClassificationPipeline(component_graph={'Label Encoder': ['Label Encoder', 'X', 'y'], 'Imputer': ['Imputer', 'X', 'Label Encoder.y'], 'Standard Scaler': ['Standard Scaler', 'Imputer.x', 'Label Encoder.y'], 'Elastic Net Classifier': ['Elastic Net Classifier', 'Standard Scaler.x', 'Label Encoder.y']}, parameters={'Label Encoder':{'positive_label': None}, 'Imputer':{'categorical_impute_strategy': 'most_frequent', 'numeric_impute_strategy': 'mean', 'categorical_fill_value': None, 'numeric_fill_value': None}, 'Elastic Net Classifier':{'penalty': 'elasticnet', 'C': 1.0, 'l1_ratio': 0.15, 'n_jobs': -1, 'multi_class': 'auto', 'solver': 'saga'}}, random_seed=0)"
      ]
     },
     "execution_count": 119,
     "metadata": {},
     "output_type": "execute_result"
    }
   ],
   "source": [
    "automl.best_pipeline"
   ]
  },
  {
   "cell_type": "code",
   "execution_count": 120,
   "id": "c0e5f210",
   "metadata": {},
   "outputs": [],
   "source": [
    "best_pipeline=automl.best_pipeline"
   ]
  },
  {
   "cell_type": "code",
   "execution_count": 121,
   "id": "cf9fb53d",
   "metadata": {},
   "outputs": [
    {
     "name": "stdout",
     "output_type": "stream",
     "text": [
      "\n",
      "***********************************************************************\n",
      "* Elastic Net Classifier w/ Label Encoder + Imputer + Standard Scaler *\n",
      "***********************************************************************\n",
      "\n",
      "Problem Type: binary\n",
      "Model Family: Linear\n",
      "\n",
      "Pipeline Steps\n",
      "==============\n",
      "1. Label Encoder\n",
      "\t * positive_label : None\n",
      "2. Imputer\n",
      "\t * categorical_impute_strategy : most_frequent\n",
      "\t * numeric_impute_strategy : mean\n",
      "\t * categorical_fill_value : None\n",
      "\t * numeric_fill_value : None\n",
      "3. Standard Scaler\n",
      "4. Elastic Net Classifier\n",
      "\t * penalty : elasticnet\n",
      "\t * C : 1.0\n",
      "\t * l1_ratio : 0.15\n",
      "\t * n_jobs : -1\n",
      "\t * multi_class : auto\n",
      "\t * solver : saga\n",
      "\n",
      "Training\n",
      "========\n",
      "Training for binary problems.\n",
      "Total training time (including CV): 0.6 seconds\n",
      "\n",
      "Cross Validation\n",
      "----------------\n",
      "             Log Loss Binary  MCC Binary  Gini   AUC  Precision    F1  Balanced Accuracy Binary  Accuracy Binary # Training # Validation\n",
      "0                      0.488       0.460 0.636 0.818      0.582 0.655                     0.742            0.739        314          157\n",
      "1                      0.472       0.511 0.691 0.845      0.673 0.673                     0.756            0.783        314          157\n",
      "2                      0.454       0.475 0.670 0.835      0.707 0.624                     0.722            0.777        314          157\n",
      "mean                   0.471       0.482 0.666 0.833      0.654 0.651                     0.740            0.766          -            -\n",
      "std                    0.017       0.026 0.028 0.014      0.065 0.025                     0.017            0.024          -            -\n",
      "coef of var            0.036       0.055 0.041 0.017      0.099 0.038                     0.023            0.031          -            -\n"
     ]
    }
   ],
   "source": [
    "automl.describe_pipeline(automl.rankings.iloc[0][\"id\"])"
   ]
  },
  {
   "cell_type": "code",
   "execution_count": 124,
   "id": "ab178f00",
   "metadata": {},
   "outputs": [
    {
     "data": {
      "text/plain": [
       "OrderedDict([('AUC', 0.8206417624521073),\n",
       "             ('F1', 0.6946107784431137),\n",
       "             ('Precision', 0.725),\n",
       "             ('Recall', 0.6666666666666666)])"
      ]
     },
     "execution_count": 124,
     "metadata": {},
     "output_type": "execute_result"
    }
   ],
   "source": [
    "best_pipeline.score(X_test, y_test, objectives=[\"auc\",\"f1\",\"Precision\",\"Recall\"])"
   ]
  },
  {
   "cell_type": "code",
   "execution_count": 126,
   "id": "d021b58c",
   "metadata": {},
   "outputs": [],
   "source": [
    "#We have made better models than this using Hyperparameter tuning."
   ]
  },
  {
   "cell_type": "code",
   "execution_count": null,
   "id": "d7e755f4",
   "metadata": {},
   "outputs": [],
   "source": [
    "# So our best model is a Random Forest with an accuracy of 81.6%\n",
    "# We could use standard scaler to further transform the data,\n",
    "# But Random Forest is not affected by it."
   ]
  }
 ],
 "metadata": {
  "kernelspec": {
   "display_name": "Python 3 (ipykernel)",
   "language": "python",
   "name": "python3"
  },
  "language_info": {
   "codemirror_mode": {
    "name": "ipython",
    "version": 3
   },
   "file_extension": ".py",
   "mimetype": "text/x-python",
   "name": "python",
   "nbconvert_exporter": "python",
   "pygments_lexer": "ipython3",
   "version": "3.8.12"
  }
 },
 "nbformat": 4,
 "nbformat_minor": 5
}
